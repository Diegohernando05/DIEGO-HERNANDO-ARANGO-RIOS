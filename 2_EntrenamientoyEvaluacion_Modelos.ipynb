{
  "nbformat": 4,
  "nbformat_minor": 0,
  "metadata": {
    "colab": {
      "provenance": [],
      "include_colab_link": true
    },
    "kernelspec": {
      "name": "python3",
      "display_name": "Python 3"
    },
    "language_info": {
      "name": "python"
    }
  },
  "cells": [
    {
      "cell_type": "markdown",
      "metadata": {
        "id": "view-in-github",
        "colab_type": "text"
      },
      "source": [
        "<a href=\"https://colab.research.google.com/github/Diegohernando05/DIEGO-HERNANDO-ARANGO-RIOS/blob/main/2_EntrenamientoyEvaluacion_Modelos.ipynb\" target=\"_parent\"><img src=\"https://colab.research.google.com/assets/colab-badge.svg\" alt=\"Open In Colab\"/></a>"
      ]
    },
    {
      "cell_type": "code",
      "execution_count": null,
      "metadata": {
        "colab": {
          "base_uri": "https://localhost:8080/",
          "height": 496
        },
        "id": "U3xDAO1iLaVq",
        "outputId": "659eebfb-2c56-4f87-cc6f-2038a420bbe5"
      },
      "outputs": [
        {
          "output_type": "execute_result",
          "data": {
            "text/plain": [
              "      Marital status  Application mode  Application order  Course  \\\n",
              "0                  1                 8                  5       2   \n",
              "1                  1                 6                  1      11   \n",
              "2                  1                 1                  5       5   \n",
              "3                  1                 8                  2      15   \n",
              "4                  2                12                  1       3   \n",
              "...              ...               ...                ...     ...   \n",
              "4419               1                 1                  6      15   \n",
              "4420               1                 1                  2      15   \n",
              "4421               1                 1                  1      12   \n",
              "4422               1                 1                  1       9   \n",
              "4423               1                 5                  1      15   \n",
              "\n",
              "      Daytime/evening attendance  Previous qualification  Nacionality  \\\n",
              "0                              1                       1            1   \n",
              "1                              1                       1            1   \n",
              "2                              1                       1            1   \n",
              "3                              1                       1            1   \n",
              "4                              0                       1            1   \n",
              "...                          ...                     ...          ...   \n",
              "4419                           1                       1            1   \n",
              "4420                           1                       1           19   \n",
              "4421                           1                       1            1   \n",
              "4422                           1                       1            1   \n",
              "4423                           1                       1            9   \n",
              "\n",
              "      Mother's qualification  Father's qualification  Mother's occupation  \\\n",
              "0                         13                      10                    6   \n",
              "1                          1                       3                    4   \n",
              "2                         22                      27                   10   \n",
              "3                         23                      27                    6   \n",
              "4                         22                      28                   10   \n",
              "...                      ...                     ...                  ...   \n",
              "4419                       1                       1                    6   \n",
              "4420                       1                       1                   10   \n",
              "4421                      22                      27                   10   \n",
              "4422                      22                      27                    8   \n",
              "4423                      23                      27                    6   \n",
              "\n",
              "      ...  Curricular units 2nd sem (credited)  \\\n",
              "0     ...                                    0   \n",
              "1     ...                                    0   \n",
              "2     ...                                    0   \n",
              "3     ...                                    0   \n",
              "4     ...                                    0   \n",
              "...   ...                                  ...   \n",
              "4419  ...                                    0   \n",
              "4420  ...                                    0   \n",
              "4421  ...                                    0   \n",
              "4422  ...                                    0   \n",
              "4423  ...                                    0   \n",
              "\n",
              "      Curricular units 2nd sem (enrolled)  \\\n",
              "0                                       0   \n",
              "1                                       6   \n",
              "2                                       6   \n",
              "3                                       6   \n",
              "4                                       6   \n",
              "...                                   ...   \n",
              "4419                                    6   \n",
              "4420                                    6   \n",
              "4421                                    8   \n",
              "4422                                    5   \n",
              "4423                                    6   \n",
              "\n",
              "      Curricular units 2nd sem (evaluations)  \\\n",
              "0                                          0   \n",
              "1                                          6   \n",
              "2                                          0   \n",
              "3                                         10   \n",
              "4                                          6   \n",
              "...                                      ...   \n",
              "4419                                       8   \n",
              "4420                                       6   \n",
              "4421                                       9   \n",
              "4422                                       6   \n",
              "4423                                       6   \n",
              "\n",
              "      Curricular units 2nd sem (approved)  Curricular units 2nd sem (grade)  \\\n",
              "0                                       0                          0.000000   \n",
              "1                                       6                         13.666667   \n",
              "2                                       0                          0.000000   \n",
              "3                                       5                         12.400000   \n",
              "4                                       6                         13.000000   \n",
              "...                                   ...                               ...   \n",
              "4419                                    5                         12.666667   \n",
              "4420                                    2                         11.000000   \n",
              "4421                                    1                         13.500000   \n",
              "4422                                    5                         12.000000   \n",
              "4423                                    6                         13.000000   \n",
              "\n",
              "      Curricular units 2nd sem (without evaluations)  Unemployment rate  \\\n",
              "0                                                  0               10.8   \n",
              "1                                                  0               13.9   \n",
              "2                                                  0               10.8   \n",
              "3                                                  0                9.4   \n",
              "4                                                  0               13.9   \n",
              "...                                              ...                ...   \n",
              "4419                                               0               15.5   \n",
              "4420                                               0               11.1   \n",
              "4421                                               0               13.9   \n",
              "4422                                               0                9.4   \n",
              "4423                                               0               12.7   \n",
              "\n",
              "      Inflation rate   GDP    Target  \n",
              "0                1.4  1.74   Dropout  \n",
              "1               -0.3  0.79  Graduate  \n",
              "2                1.4  1.74   Dropout  \n",
              "3               -0.8 -3.12  Graduate  \n",
              "4               -0.3  0.79  Graduate  \n",
              "...              ...   ...       ...  \n",
              "4419             2.8 -4.06  Graduate  \n",
              "4420             0.6  2.02   Dropout  \n",
              "4421            -0.3  0.79   Dropout  \n",
              "4422            -0.8 -3.12  Graduate  \n",
              "4423             3.7 -1.70  Graduate  \n",
              "\n",
              "[4424 rows x 35 columns]"
            ],
            "text/html": [
              "\n",
              "  <div id=\"df-3ca3ff06-da32-47e9-b49e-4c4c8284ce84\" class=\"colab-df-container\">\n",
              "    <div>\n",
              "<style scoped>\n",
              "    .dataframe tbody tr th:only-of-type {\n",
              "        vertical-align: middle;\n",
              "    }\n",
              "\n",
              "    .dataframe tbody tr th {\n",
              "        vertical-align: top;\n",
              "    }\n",
              "\n",
              "    .dataframe thead th {\n",
              "        text-align: right;\n",
              "    }\n",
              "</style>\n",
              "<table border=\"1\" class=\"dataframe\">\n",
              "  <thead>\n",
              "    <tr style=\"text-align: right;\">\n",
              "      <th></th>\n",
              "      <th>Marital status</th>\n",
              "      <th>Application mode</th>\n",
              "      <th>Application order</th>\n",
              "      <th>Course</th>\n",
              "      <th>Daytime/evening attendance</th>\n",
              "      <th>Previous qualification</th>\n",
              "      <th>Nacionality</th>\n",
              "      <th>Mother's qualification</th>\n",
              "      <th>Father's qualification</th>\n",
              "      <th>Mother's occupation</th>\n",
              "      <th>...</th>\n",
              "      <th>Curricular units 2nd sem (credited)</th>\n",
              "      <th>Curricular units 2nd sem (enrolled)</th>\n",
              "      <th>Curricular units 2nd sem (evaluations)</th>\n",
              "      <th>Curricular units 2nd sem (approved)</th>\n",
              "      <th>Curricular units 2nd sem (grade)</th>\n",
              "      <th>Curricular units 2nd sem (without evaluations)</th>\n",
              "      <th>Unemployment rate</th>\n",
              "      <th>Inflation rate</th>\n",
              "      <th>GDP</th>\n",
              "      <th>Target</th>\n",
              "    </tr>\n",
              "  </thead>\n",
              "  <tbody>\n",
              "    <tr>\n",
              "      <th>0</th>\n",
              "      <td>1</td>\n",
              "      <td>8</td>\n",
              "      <td>5</td>\n",
              "      <td>2</td>\n",
              "      <td>1</td>\n",
              "      <td>1</td>\n",
              "      <td>1</td>\n",
              "      <td>13</td>\n",
              "      <td>10</td>\n",
              "      <td>6</td>\n",
              "      <td>...</td>\n",
              "      <td>0</td>\n",
              "      <td>0</td>\n",
              "      <td>0</td>\n",
              "      <td>0</td>\n",
              "      <td>0.000000</td>\n",
              "      <td>0</td>\n",
              "      <td>10.8</td>\n",
              "      <td>1.4</td>\n",
              "      <td>1.74</td>\n",
              "      <td>Dropout</td>\n",
              "    </tr>\n",
              "    <tr>\n",
              "      <th>1</th>\n",
              "      <td>1</td>\n",
              "      <td>6</td>\n",
              "      <td>1</td>\n",
              "      <td>11</td>\n",
              "      <td>1</td>\n",
              "      <td>1</td>\n",
              "      <td>1</td>\n",
              "      <td>1</td>\n",
              "      <td>3</td>\n",
              "      <td>4</td>\n",
              "      <td>...</td>\n",
              "      <td>0</td>\n",
              "      <td>6</td>\n",
              "      <td>6</td>\n",
              "      <td>6</td>\n",
              "      <td>13.666667</td>\n",
              "      <td>0</td>\n",
              "      <td>13.9</td>\n",
              "      <td>-0.3</td>\n",
              "      <td>0.79</td>\n",
              "      <td>Graduate</td>\n",
              "    </tr>\n",
              "    <tr>\n",
              "      <th>2</th>\n",
              "      <td>1</td>\n",
              "      <td>1</td>\n",
              "      <td>5</td>\n",
              "      <td>5</td>\n",
              "      <td>1</td>\n",
              "      <td>1</td>\n",
              "      <td>1</td>\n",
              "      <td>22</td>\n",
              "      <td>27</td>\n",
              "      <td>10</td>\n",
              "      <td>...</td>\n",
              "      <td>0</td>\n",
              "      <td>6</td>\n",
              "      <td>0</td>\n",
              "      <td>0</td>\n",
              "      <td>0.000000</td>\n",
              "      <td>0</td>\n",
              "      <td>10.8</td>\n",
              "      <td>1.4</td>\n",
              "      <td>1.74</td>\n",
              "      <td>Dropout</td>\n",
              "    </tr>\n",
              "    <tr>\n",
              "      <th>3</th>\n",
              "      <td>1</td>\n",
              "      <td>8</td>\n",
              "      <td>2</td>\n",
              "      <td>15</td>\n",
              "      <td>1</td>\n",
              "      <td>1</td>\n",
              "      <td>1</td>\n",
              "      <td>23</td>\n",
              "      <td>27</td>\n",
              "      <td>6</td>\n",
              "      <td>...</td>\n",
              "      <td>0</td>\n",
              "      <td>6</td>\n",
              "      <td>10</td>\n",
              "      <td>5</td>\n",
              "      <td>12.400000</td>\n",
              "      <td>0</td>\n",
              "      <td>9.4</td>\n",
              "      <td>-0.8</td>\n",
              "      <td>-3.12</td>\n",
              "      <td>Graduate</td>\n",
              "    </tr>\n",
              "    <tr>\n",
              "      <th>4</th>\n",
              "      <td>2</td>\n",
              "      <td>12</td>\n",
              "      <td>1</td>\n",
              "      <td>3</td>\n",
              "      <td>0</td>\n",
              "      <td>1</td>\n",
              "      <td>1</td>\n",
              "      <td>22</td>\n",
              "      <td>28</td>\n",
              "      <td>10</td>\n",
              "      <td>...</td>\n",
              "      <td>0</td>\n",
              "      <td>6</td>\n",
              "      <td>6</td>\n",
              "      <td>6</td>\n",
              "      <td>13.000000</td>\n",
              "      <td>0</td>\n",
              "      <td>13.9</td>\n",
              "      <td>-0.3</td>\n",
              "      <td>0.79</td>\n",
              "      <td>Graduate</td>\n",
              "    </tr>\n",
              "    <tr>\n",
              "      <th>...</th>\n",
              "      <td>...</td>\n",
              "      <td>...</td>\n",
              "      <td>...</td>\n",
              "      <td>...</td>\n",
              "      <td>...</td>\n",
              "      <td>...</td>\n",
              "      <td>...</td>\n",
              "      <td>...</td>\n",
              "      <td>...</td>\n",
              "      <td>...</td>\n",
              "      <td>...</td>\n",
              "      <td>...</td>\n",
              "      <td>...</td>\n",
              "      <td>...</td>\n",
              "      <td>...</td>\n",
              "      <td>...</td>\n",
              "      <td>...</td>\n",
              "      <td>...</td>\n",
              "      <td>...</td>\n",
              "      <td>...</td>\n",
              "      <td>...</td>\n",
              "    </tr>\n",
              "    <tr>\n",
              "      <th>4419</th>\n",
              "      <td>1</td>\n",
              "      <td>1</td>\n",
              "      <td>6</td>\n",
              "      <td>15</td>\n",
              "      <td>1</td>\n",
              "      <td>1</td>\n",
              "      <td>1</td>\n",
              "      <td>1</td>\n",
              "      <td>1</td>\n",
              "      <td>6</td>\n",
              "      <td>...</td>\n",
              "      <td>0</td>\n",
              "      <td>6</td>\n",
              "      <td>8</td>\n",
              "      <td>5</td>\n",
              "      <td>12.666667</td>\n",
              "      <td>0</td>\n",
              "      <td>15.5</td>\n",
              "      <td>2.8</td>\n",
              "      <td>-4.06</td>\n",
              "      <td>Graduate</td>\n",
              "    </tr>\n",
              "    <tr>\n",
              "      <th>4420</th>\n",
              "      <td>1</td>\n",
              "      <td>1</td>\n",
              "      <td>2</td>\n",
              "      <td>15</td>\n",
              "      <td>1</td>\n",
              "      <td>1</td>\n",
              "      <td>19</td>\n",
              "      <td>1</td>\n",
              "      <td>1</td>\n",
              "      <td>10</td>\n",
              "      <td>...</td>\n",
              "      <td>0</td>\n",
              "      <td>6</td>\n",
              "      <td>6</td>\n",
              "      <td>2</td>\n",
              "      <td>11.000000</td>\n",
              "      <td>0</td>\n",
              "      <td>11.1</td>\n",
              "      <td>0.6</td>\n",
              "      <td>2.02</td>\n",
              "      <td>Dropout</td>\n",
              "    </tr>\n",
              "    <tr>\n",
              "      <th>4421</th>\n",
              "      <td>1</td>\n",
              "      <td>1</td>\n",
              "      <td>1</td>\n",
              "      <td>12</td>\n",
              "      <td>1</td>\n",
              "      <td>1</td>\n",
              "      <td>1</td>\n",
              "      <td>22</td>\n",
              "      <td>27</td>\n",
              "      <td>10</td>\n",
              "      <td>...</td>\n",
              "      <td>0</td>\n",
              "      <td>8</td>\n",
              "      <td>9</td>\n",
              "      <td>1</td>\n",
              "      <td>13.500000</td>\n",
              "      <td>0</td>\n",
              "      <td>13.9</td>\n",
              "      <td>-0.3</td>\n",
              "      <td>0.79</td>\n",
              "      <td>Dropout</td>\n",
              "    </tr>\n",
              "    <tr>\n",
              "      <th>4422</th>\n",
              "      <td>1</td>\n",
              "      <td>1</td>\n",
              "      <td>1</td>\n",
              "      <td>9</td>\n",
              "      <td>1</td>\n",
              "      <td>1</td>\n",
              "      <td>1</td>\n",
              "      <td>22</td>\n",
              "      <td>27</td>\n",
              "      <td>8</td>\n",
              "      <td>...</td>\n",
              "      <td>0</td>\n",
              "      <td>5</td>\n",
              "      <td>6</td>\n",
              "      <td>5</td>\n",
              "      <td>12.000000</td>\n",
              "      <td>0</td>\n",
              "      <td>9.4</td>\n",
              "      <td>-0.8</td>\n",
              "      <td>-3.12</td>\n",
              "      <td>Graduate</td>\n",
              "    </tr>\n",
              "    <tr>\n",
              "      <th>4423</th>\n",
              "      <td>1</td>\n",
              "      <td>5</td>\n",
              "      <td>1</td>\n",
              "      <td>15</td>\n",
              "      <td>1</td>\n",
              "      <td>1</td>\n",
              "      <td>9</td>\n",
              "      <td>23</td>\n",
              "      <td>27</td>\n",
              "      <td>6</td>\n",
              "      <td>...</td>\n",
              "      <td>0</td>\n",
              "      <td>6</td>\n",
              "      <td>6</td>\n",
              "      <td>6</td>\n",
              "      <td>13.000000</td>\n",
              "      <td>0</td>\n",
              "      <td>12.7</td>\n",
              "      <td>3.7</td>\n",
              "      <td>-1.70</td>\n",
              "      <td>Graduate</td>\n",
              "    </tr>\n",
              "  </tbody>\n",
              "</table>\n",
              "<p>4424 rows × 35 columns</p>\n",
              "</div>\n",
              "    <div class=\"colab-df-buttons\">\n",
              "\n",
              "  <div class=\"colab-df-container\">\n",
              "    <button class=\"colab-df-convert\" onclick=\"convertToInteractive('df-3ca3ff06-da32-47e9-b49e-4c4c8284ce84')\"\n",
              "            title=\"Convert this dataframe to an interactive table.\"\n",
              "            style=\"display:none;\">\n",
              "\n",
              "  <svg xmlns=\"http://www.w3.org/2000/svg\" height=\"24px\" viewBox=\"0 -960 960 960\">\n",
              "    <path d=\"M120-120v-720h720v720H120Zm60-500h600v-160H180v160Zm220 220h160v-160H400v160Zm0 220h160v-160H400v160ZM180-400h160v-160H180v160Zm440 0h160v-160H620v160ZM180-180h160v-160H180v160Zm440 0h160v-160H620v160Z\"/>\n",
              "  </svg>\n",
              "    </button>\n",
              "\n",
              "  <style>\n",
              "    .colab-df-container {\n",
              "      display:flex;\n",
              "      gap: 12px;\n",
              "    }\n",
              "\n",
              "    .colab-df-convert {\n",
              "      background-color: #E8F0FE;\n",
              "      border: none;\n",
              "      border-radius: 50%;\n",
              "      cursor: pointer;\n",
              "      display: none;\n",
              "      fill: #1967D2;\n",
              "      height: 32px;\n",
              "      padding: 0 0 0 0;\n",
              "      width: 32px;\n",
              "    }\n",
              "\n",
              "    .colab-df-convert:hover {\n",
              "      background-color: #E2EBFA;\n",
              "      box-shadow: 0px 1px 2px rgba(60, 64, 67, 0.3), 0px 1px 3px 1px rgba(60, 64, 67, 0.15);\n",
              "      fill: #174EA6;\n",
              "    }\n",
              "\n",
              "    .colab-df-buttons div {\n",
              "      margin-bottom: 4px;\n",
              "    }\n",
              "\n",
              "    [theme=dark] .colab-df-convert {\n",
              "      background-color: #3B4455;\n",
              "      fill: #D2E3FC;\n",
              "    }\n",
              "\n",
              "    [theme=dark] .colab-df-convert:hover {\n",
              "      background-color: #434B5C;\n",
              "      box-shadow: 0px 1px 3px 1px rgba(0, 0, 0, 0.15);\n",
              "      filter: drop-shadow(0px 1px 2px rgba(0, 0, 0, 0.3));\n",
              "      fill: #FFFFFF;\n",
              "    }\n",
              "  </style>\n",
              "\n",
              "    <script>\n",
              "      const buttonEl =\n",
              "        document.querySelector('#df-3ca3ff06-da32-47e9-b49e-4c4c8284ce84 button.colab-df-convert');\n",
              "      buttonEl.style.display =\n",
              "        google.colab.kernel.accessAllowed ? 'block' : 'none';\n",
              "\n",
              "      async function convertToInteractive(key) {\n",
              "        const element = document.querySelector('#df-3ca3ff06-da32-47e9-b49e-4c4c8284ce84');\n",
              "        const dataTable =\n",
              "          await google.colab.kernel.invokeFunction('convertToInteractive',\n",
              "                                                    [key], {});\n",
              "        if (!dataTable) return;\n",
              "\n",
              "        const docLinkHtml = 'Like what you see? Visit the ' +\n",
              "          '<a target=\"_blank\" href=https://colab.research.google.com/notebooks/data_table.ipynb>data table notebook</a>'\n",
              "          + ' to learn more about interactive tables.';\n",
              "        element.innerHTML = '';\n",
              "        dataTable['output_type'] = 'display_data';\n",
              "        await google.colab.output.renderOutput(dataTable, element);\n",
              "        const docLink = document.createElement('div');\n",
              "        docLink.innerHTML = docLinkHtml;\n",
              "        element.appendChild(docLink);\n",
              "      }\n",
              "    </script>\n",
              "  </div>\n",
              "\n",
              "\n",
              "<div id=\"df-83a36e65-f76c-4b7f-8ad6-26ada8623c79\">\n",
              "  <button class=\"colab-df-quickchart\" onclick=\"quickchart('df-83a36e65-f76c-4b7f-8ad6-26ada8623c79')\"\n",
              "            title=\"Suggest charts\"\n",
              "            style=\"display:none;\">\n",
              "\n",
              "<svg xmlns=\"http://www.w3.org/2000/svg\" height=\"24px\"viewBox=\"0 0 24 24\"\n",
              "     width=\"24px\">\n",
              "    <g>\n",
              "        <path d=\"M19 3H5c-1.1 0-2 .9-2 2v14c0 1.1.9 2 2 2h14c1.1 0 2-.9 2-2V5c0-1.1-.9-2-2-2zM9 17H7v-7h2v7zm4 0h-2V7h2v10zm4 0h-2v-4h2v4z\"/>\n",
              "    </g>\n",
              "</svg>\n",
              "  </button>\n",
              "\n",
              "<style>\n",
              "  .colab-df-quickchart {\n",
              "      --bg-color: #E8F0FE;\n",
              "      --fill-color: #1967D2;\n",
              "      --hover-bg-color: #E2EBFA;\n",
              "      --hover-fill-color: #174EA6;\n",
              "      --disabled-fill-color: #AAA;\n",
              "      --disabled-bg-color: #DDD;\n",
              "  }\n",
              "\n",
              "  [theme=dark] .colab-df-quickchart {\n",
              "      --bg-color: #3B4455;\n",
              "      --fill-color: #D2E3FC;\n",
              "      --hover-bg-color: #434B5C;\n",
              "      --hover-fill-color: #FFFFFF;\n",
              "      --disabled-bg-color: #3B4455;\n",
              "      --disabled-fill-color: #666;\n",
              "  }\n",
              "\n",
              "  .colab-df-quickchart {\n",
              "    background-color: var(--bg-color);\n",
              "    border: none;\n",
              "    border-radius: 50%;\n",
              "    cursor: pointer;\n",
              "    display: none;\n",
              "    fill: var(--fill-color);\n",
              "    height: 32px;\n",
              "    padding: 0;\n",
              "    width: 32px;\n",
              "  }\n",
              "\n",
              "  .colab-df-quickchart:hover {\n",
              "    background-color: var(--hover-bg-color);\n",
              "    box-shadow: 0 1px 2px rgba(60, 64, 67, 0.3), 0 1px 3px 1px rgba(60, 64, 67, 0.15);\n",
              "    fill: var(--button-hover-fill-color);\n",
              "  }\n",
              "\n",
              "  .colab-df-quickchart-complete:disabled,\n",
              "  .colab-df-quickchart-complete:disabled:hover {\n",
              "    background-color: var(--disabled-bg-color);\n",
              "    fill: var(--disabled-fill-color);\n",
              "    box-shadow: none;\n",
              "  }\n",
              "\n",
              "  .colab-df-spinner {\n",
              "    border: 2px solid var(--fill-color);\n",
              "    border-color: transparent;\n",
              "    border-bottom-color: var(--fill-color);\n",
              "    animation:\n",
              "      spin 1s steps(1) infinite;\n",
              "  }\n",
              "\n",
              "  @keyframes spin {\n",
              "    0% {\n",
              "      border-color: transparent;\n",
              "      border-bottom-color: var(--fill-color);\n",
              "      border-left-color: var(--fill-color);\n",
              "    }\n",
              "    20% {\n",
              "      border-color: transparent;\n",
              "      border-left-color: var(--fill-color);\n",
              "      border-top-color: var(--fill-color);\n",
              "    }\n",
              "    30% {\n",
              "      border-color: transparent;\n",
              "      border-left-color: var(--fill-color);\n",
              "      border-top-color: var(--fill-color);\n",
              "      border-right-color: var(--fill-color);\n",
              "    }\n",
              "    40% {\n",
              "      border-color: transparent;\n",
              "      border-right-color: var(--fill-color);\n",
              "      border-top-color: var(--fill-color);\n",
              "    }\n",
              "    60% {\n",
              "      border-color: transparent;\n",
              "      border-right-color: var(--fill-color);\n",
              "    }\n",
              "    80% {\n",
              "      border-color: transparent;\n",
              "      border-right-color: var(--fill-color);\n",
              "      border-bottom-color: var(--fill-color);\n",
              "    }\n",
              "    90% {\n",
              "      border-color: transparent;\n",
              "      border-bottom-color: var(--fill-color);\n",
              "    }\n",
              "  }\n",
              "</style>\n",
              "\n",
              "  <script>\n",
              "    async function quickchart(key) {\n",
              "      const quickchartButtonEl =\n",
              "        document.querySelector('#' + key + ' button');\n",
              "      quickchartButtonEl.disabled = true;  // To prevent multiple clicks.\n",
              "      quickchartButtonEl.classList.add('colab-df-spinner');\n",
              "      try {\n",
              "        const charts = await google.colab.kernel.invokeFunction(\n",
              "            'suggestCharts', [key], {});\n",
              "      } catch (error) {\n",
              "        console.error('Error during call to suggestCharts:', error);\n",
              "      }\n",
              "      quickchartButtonEl.classList.remove('colab-df-spinner');\n",
              "      quickchartButtonEl.classList.add('colab-df-quickchart-complete');\n",
              "    }\n",
              "    (() => {\n",
              "      let quickchartButtonEl =\n",
              "        document.querySelector('#df-83a36e65-f76c-4b7f-8ad6-26ada8623c79 button');\n",
              "      quickchartButtonEl.style.display =\n",
              "        google.colab.kernel.accessAllowed ? 'block' : 'none';\n",
              "    })();\n",
              "  </script>\n",
              "</div>\n",
              "    </div>\n",
              "  </div>\n"
            ]
          },
          "metadata": {},
          "execution_count": 1
        }
      ],
      "source": [
        "\n",
        "import pandas as pd\n",
        "import seaborn as sns\n",
        "import numpy as np\n",
        "import matplotlib.pyplot as plt\n",
        "%matplotlib inline\n",
        "df = pd.read_csv(\"dataset.csv\")\n",
        "df"
      ]
    },
    {
      "cell_type": "markdown",
      "source": [
        "A continuación se crea el conjunto de entrada x y el de salida Y correspondiente al Target y se dividen los datos en conjuntos de entrenamiento y testeo:"
      ],
      "metadata": {
        "id": "PpFLwehGUAbq"
      }
    },
    {
      "cell_type": "code",
      "source": [
        "#Importamos librerias\n",
        "from sklearn.model_selection import train_test_split"
      ],
      "metadata": {
        "id": "OclGFXJQRmgS"
      },
      "execution_count": null,
      "outputs": []
    },
    {
      "cell_type": "code",
      "source": [
        "X = df.values[:,:-1]\n",
        "y = df[\"Target\"].values\n",
        "print (X.shape, y.shape)"
      ],
      "metadata": {
        "colab": {
          "base_uri": "https://localhost:8080/"
        },
        "id": "L-uxsjOmRao-",
        "outputId": "c0a1f7a3-bd2e-4805-9843-6acab5feab81"
      },
      "execution_count": null,
      "outputs": [
        {
          "output_type": "stream",
          "name": "stdout",
          "text": [
            "(4424, 34) (4424,)\n"
          ]
        }
      ]
    },
    {
      "cell_type": "code",
      "source": [
        "Xtr, Xts, ytr, yts = train_test_split(X,y, test_size=0.2)\n",
        "print (Xtr.shape, ytr.shape, Xts.shape, yts.shape)"
      ],
      "metadata": {
        "colab": {
          "base_uri": "https://localhost:8080/"
        },
        "id": "GuUTM8tlRtul",
        "outputId": "2b333137-fc99-484e-9932-e6532dda4acc"
      },
      "execution_count": null,
      "outputs": [
        {
          "output_type": "stream",
          "name": "stdout",
          "text": [
            "(3539, 34) (3539,) (885, 34) (885,)\n"
          ]
        }
      ]
    },
    {
      "cell_type": "markdown",
      "source": [
        "En primer lugar apliquemos un modelo de Regresion Logistica ya que nuestra salida es categorica:"
      ],
      "metadata": {
        "id": "JPtgkwhQUggh"
      }
    },
    {
      "cell_type": "code",
      "source": [
        "from sklearn.linear_model import LogisticRegression\n",
        "lr = LogisticRegression()\n",
        "lr.fit(Xtr, ytr)"
      ],
      "metadata": {
        "colab": {
          "base_uri": "https://localhost:8080/",
          "height": 234
        },
        "id": "OpLI7sppRvbm",
        "outputId": "ca94e455-2a97-483f-d365-05753bf6fe85"
      },
      "execution_count": null,
      "outputs": [
        {
          "output_type": "stream",
          "name": "stderr",
          "text": [
            "/usr/local/lib/python3.10/dist-packages/sklearn/linear_model/_logistic.py:458: ConvergenceWarning: lbfgs failed to converge (status=1):\n",
            "STOP: TOTAL NO. of ITERATIONS REACHED LIMIT.\n",
            "\n",
            "Increase the number of iterations (max_iter) or scale the data as shown in:\n",
            "    https://scikit-learn.org/stable/modules/preprocessing.html\n",
            "Please also refer to the documentation for alternative solver options:\n",
            "    https://scikit-learn.org/stable/modules/linear_model.html#logistic-regression\n",
            "  n_iter_i = _check_optimize_result(\n"
          ]
        },
        {
          "output_type": "execute_result",
          "data": {
            "text/plain": [
              "LogisticRegression()"
            ],
            "text/html": [
              "<style>#sk-container-id-1 {color: black;background-color: white;}#sk-container-id-1 pre{padding: 0;}#sk-container-id-1 div.sk-toggleable {background-color: white;}#sk-container-id-1 label.sk-toggleable__label {cursor: pointer;display: block;width: 100%;margin-bottom: 0;padding: 0.3em;box-sizing: border-box;text-align: center;}#sk-container-id-1 label.sk-toggleable__label-arrow:before {content: \"▸\";float: left;margin-right: 0.25em;color: #696969;}#sk-container-id-1 label.sk-toggleable__label-arrow:hover:before {color: black;}#sk-container-id-1 div.sk-estimator:hover label.sk-toggleable__label-arrow:before {color: black;}#sk-container-id-1 div.sk-toggleable__content {max-height: 0;max-width: 0;overflow: hidden;text-align: left;background-color: #f0f8ff;}#sk-container-id-1 div.sk-toggleable__content pre {margin: 0.2em;color: black;border-radius: 0.25em;background-color: #f0f8ff;}#sk-container-id-1 input.sk-toggleable__control:checked~div.sk-toggleable__content {max-height: 200px;max-width: 100%;overflow: auto;}#sk-container-id-1 input.sk-toggleable__control:checked~label.sk-toggleable__label-arrow:before {content: \"▾\";}#sk-container-id-1 div.sk-estimator input.sk-toggleable__control:checked~label.sk-toggleable__label {background-color: #d4ebff;}#sk-container-id-1 div.sk-label input.sk-toggleable__control:checked~label.sk-toggleable__label {background-color: #d4ebff;}#sk-container-id-1 input.sk-hidden--visually {border: 0;clip: rect(1px 1px 1px 1px);clip: rect(1px, 1px, 1px, 1px);height: 1px;margin: -1px;overflow: hidden;padding: 0;position: absolute;width: 1px;}#sk-container-id-1 div.sk-estimator {font-family: monospace;background-color: #f0f8ff;border: 1px dotted black;border-radius: 0.25em;box-sizing: border-box;margin-bottom: 0.5em;}#sk-container-id-1 div.sk-estimator:hover {background-color: #d4ebff;}#sk-container-id-1 div.sk-parallel-item::after {content: \"\";width: 100%;border-bottom: 1px solid gray;flex-grow: 1;}#sk-container-id-1 div.sk-label:hover label.sk-toggleable__label {background-color: #d4ebff;}#sk-container-id-1 div.sk-serial::before {content: \"\";position: absolute;border-left: 1px solid gray;box-sizing: border-box;top: 0;bottom: 0;left: 50%;z-index: 0;}#sk-container-id-1 div.sk-serial {display: flex;flex-direction: column;align-items: center;background-color: white;padding-right: 0.2em;padding-left: 0.2em;position: relative;}#sk-container-id-1 div.sk-item {position: relative;z-index: 1;}#sk-container-id-1 div.sk-parallel {display: flex;align-items: stretch;justify-content: center;background-color: white;position: relative;}#sk-container-id-1 div.sk-item::before, #sk-container-id-1 div.sk-parallel-item::before {content: \"\";position: absolute;border-left: 1px solid gray;box-sizing: border-box;top: 0;bottom: 0;left: 50%;z-index: -1;}#sk-container-id-1 div.sk-parallel-item {display: flex;flex-direction: column;z-index: 1;position: relative;background-color: white;}#sk-container-id-1 div.sk-parallel-item:first-child::after {align-self: flex-end;width: 50%;}#sk-container-id-1 div.sk-parallel-item:last-child::after {align-self: flex-start;width: 50%;}#sk-container-id-1 div.sk-parallel-item:only-child::after {width: 0;}#sk-container-id-1 div.sk-dashed-wrapped {border: 1px dashed gray;margin: 0 0.4em 0.5em 0.4em;box-sizing: border-box;padding-bottom: 0.4em;background-color: white;}#sk-container-id-1 div.sk-label label {font-family: monospace;font-weight: bold;display: inline-block;line-height: 1.2em;}#sk-container-id-1 div.sk-label-container {text-align: center;}#sk-container-id-1 div.sk-container {/* jupyter's `normalize.less` sets `[hidden] { display: none; }` but bootstrap.min.css set `[hidden] { display: none !important; }` so we also need the `!important` here to be able to override the default hidden behavior on the sphinx rendered scikit-learn.org. See: https://github.com/scikit-learn/scikit-learn/issues/21755 */display: inline-block !important;position: relative;}#sk-container-id-1 div.sk-text-repr-fallback {display: none;}</style><div id=\"sk-container-id-1\" class=\"sk-top-container\"><div class=\"sk-text-repr-fallback\"><pre>LogisticRegression()</pre><b>In a Jupyter environment, please rerun this cell to show the HTML representation or trust the notebook. <br />On GitHub, the HTML representation is unable to render, please try loading this page with nbviewer.org.</b></div><div class=\"sk-container\" hidden><div class=\"sk-item\"><div class=\"sk-estimator sk-toggleable\"><input class=\"sk-toggleable__control sk-hidden--visually\" id=\"sk-estimator-id-1\" type=\"checkbox\" checked><label for=\"sk-estimator-id-1\" class=\"sk-toggleable__label sk-toggleable__label-arrow\">LogisticRegression</label><div class=\"sk-toggleable__content\"><pre>LogisticRegression()</pre></div></div></div></div></div>"
            ]
          },
          "metadata": {},
          "execution_count": 13
        }
      ]
    },
    {
      "cell_type": "code",
      "source": [
        "print(\"Accuracy del modelo: \\n Entrenamiento: %.4f y Testeo: %.4f \"%(lr.score(Xtr, ytr), lr.score(Xts, yts)))"
      ],
      "metadata": {
        "colab": {
          "base_uri": "https://localhost:8080/"
        },
        "id": "jEhWdDiPUfs1",
        "outputId": "a9182bd1-84ad-4792-f077-828583764bba"
      },
      "execution_count": null,
      "outputs": [
        {
          "output_type": "stream",
          "name": "stdout",
          "text": [
            "Accuracy del modelo: \n",
            " Entrenamiento: 0.7824 y Testeo: 0.7424 \n"
          ]
        }
      ]
    },
    {
      "cell_type": "code",
      "source": [
        "from sklearn import metrics\n",
        "predicted=lr.predict(Xts)\n",
        "confusion_matrix = metrics.confusion_matrix(yts, predicted,labels=['Dropout', 'Graduate', 'Enrolled'])\n",
        "fig, ax = plt.subplots(figsize=(6,6))\n",
        "im = sns.heatmap(confusion_matrix,annot=True)\n",
        "\n",
        "p=['Dropout', 'Graduate', 'Enrolled']\n",
        "\n",
        "ax.set_xticks(np.arange(len(p)), labels=k,fontsize=18)\n",
        "ax.set_yticks(np.arange(len(p)), labels=p,fontsize=18)\n",
        "\n"
      ],
      "metadata": {
        "colab": {
          "base_uri": "https://localhost:8080/",
          "height": 635
        },
        "id": "UcDOat6KVaAI",
        "outputId": "6a476413-03ed-43c7-afbf-0514f3193e36"
      },
      "execution_count": null,
      "outputs": [
        {
          "output_type": "execute_result",
          "data": {
            "text/plain": [
              "[<matplotlib.axis.YTick at 0x7b3eec4b4d00>,\n",
              " <matplotlib.axis.YTick at 0x7b3eec4b4b20>,\n",
              " <matplotlib.axis.YTick at 0x7b3eeca46c50>]"
            ]
          },
          "metadata": {},
          "execution_count": 78
        },
        {
          "output_type": "display_data",
          "data": {
            "text/plain": [
              "<Figure size 600x600 with 2 Axes>"
            ],
            "image/png": "[encoded data removed]"
          },
          "metadata": {}
        }
      ]
    },
    {
      "cell_type": "markdown",
      "source": [
        "Verfiquemos que si esta bien dividio el conjunto de datos de tal modo que si haya cantidad suficiente"
      ],
      "metadata": {
        "id": "YdoddBZcegfg"
      }
    },
    {
      "cell_type": "code",
      "source": [
        "import collections\n",
        "M=np.zeros((3,3))\n",
        "a=['Dropout', 'Graduate', 'Enrolled']\n",
        "for j,i in enumerate([y,ytr,yts]):\n",
        "  count=collections.Counter(i)\n",
        "  for k in range(3):\n",
        "    M[j,k]=count[a[k]]*100/len(i)\n",
        "fig, ax = plt.subplots(figsize=(6,6))\n",
        "im = ax.imshow(M,cmap=\"Blues\")\n",
        "\n",
        "p=[\"Total\",\"Entrenamiento\",\"Testeo\"]\n",
        "k=a\n",
        "\n",
        "ax.set_xticks(np.arange(len(k)), labels=k,fontsize=18)\n",
        "ax.set_yticks(np.arange(len(p)), labels=p,fontsize=18)\n",
        "\n",
        "\n",
        "for i in range(len(p)):\n",
        "    for j in range(len(k)):\n",
        "        text = ax.text(j, i, str(round(M[i,j],1))+\" %\",\n",
        "                       ha=\"center\", va=\"center\", color=\"k\",fontsize=16)\n",
        "\n",
        "fig.tight_layout()\n",
        "plt.show()"
      ],
      "metadata": {
        "colab": {
          "base_uri": "https://localhost:8080/",
          "height": 446
        },
        "id": "Xgn2Ch4YXCn_",
        "outputId": "fbe1e006-737d-4c36-a5dd-b525768c6daf"
      },
      "execution_count": null,
      "outputs": [
        {
          "output_type": "display_data",
          "data": {
            "text/plain": [
              "<Figure size 600x600 with 1 Axes>"
            ],
            "image/png": "[encoded data removed]"
          },
          "metadata": {}
        }
      ]
    },
    {
      "cell_type": "markdown",
      "source": [
        "Como podemos observar la mayor falla se encuentra en los estudiantes matriculados, ya que su cantidad es muy pequeña respecto a lo conserniente a graduados o que han abandonado.\n",
        "\n",
        "Ahora evaluemos otro modelo, usemos un arbol de decisión y veamos si este mejora el rendimiento:"
      ],
      "metadata": {
        "id": "wewv78Jahs9g"
      }
    },
    {
      "cell_type": "code",
      "source": [
        "from sklearn.tree import DecisionTreeClassifier\n",
        "DR = DecisionTreeClassifier()\n",
        "DR.fit(Xtr, ytr)\n",
        "print(\"Accuracy del modelo: \\n Entrenamiento: %.4f y Testeo: %.4f \"%(DR.score(Xtr, ytr), DR.score(Xts, yts)))"
      ],
      "metadata": {
        "colab": {
          "base_uri": "https://localhost:8080/"
        },
        "id": "iSQKcv0SWbQx",
        "outputId": "1cfa122e-5024-4df4-cac4-b32aecb117cc"
      },
      "execution_count": null,
      "outputs": [
        {
          "output_type": "stream",
          "name": "stdout",
          "text": [
            "Accuracy del modelo: \n",
            " Entrenamiento: 1.0000 y Testeo: 0.6723 \n"
          ]
        }
      ]
    },
    {
      "cell_type": "code",
      "source": [
        "predicted=DR.predict(Xts)\n",
        "confusion_matrix = metrics.confusion_matrix(yts, predicted,labels=['Dropout', 'Graduate', 'Enrolled'])\n",
        "fig, ax = plt.subplots(figsize=(6,6))\n",
        "im = sns.heatmap(confusion_matrix,annot=True)\n",
        "\n",
        "p=['Dropout', 'Graduate', 'Enrolled']\n",
        "\n",
        "ax.set_xticks(np.arange(len(p)), labels=k,fontsize=18)\n",
        "ax.set_yticks(np.arange(len(p)), labels=p,fontsize=18)"
      ],
      "metadata": {
        "colab": {
          "base_uri": "https://localhost:8080/",
          "height": 635
        },
        "id": "XVtEAz1hkfv5",
        "outputId": "ad889d84-e510-4491-c012-d3eed2f7abba"
      },
      "execution_count": null,
      "outputs": [
        {
          "output_type": "execute_result",
          "data": {
            "text/plain": [
              "[<matplotlib.axis.YTick at 0x7b3eec4f2410>,\n",
              " <matplotlib.axis.YTick at 0x7b3eec4f20e0>,\n",
              " <matplotlib.axis.YTick at 0x7b3eec52ead0>]"
            ]
          },
          "metadata": {},
          "execution_count": 81
        },
        {
          "output_type": "display_data",
          "data": {
            "text/plain": [
              "<Figure size 600x600 with 2 Axes>"
            ],
            "image/png": "[encoded data removed]"
          },
          "metadata": {}
        }
      ]
    },
    {
      "cell_type": "markdown",
      "source": [
        "de aquí observamos que el modelo aprende de forma perfeta el conjunto de entrenamiento, pero falla para el de testeo, es decir que se presenta un sobre ajuste, por lo cual es importante incluir una validación cruzada que nos permita eegir cual es el mejor conjunto de testeo que brinde un mejor entrenameinto:"
      ],
      "metadata": {
        "id": "vdIohKIykJLj"
      }
    },
    {
      "cell_type": "code",
      "source": [
        "from sklearn.model_selection import cross_validate, ShuffleSplit\n",
        "estimator1 = DecisionTreeClassifier(max_depth=5)\n",
        "z1 = cross_validate(estimator1, X, y, return_train_score=True, return_estimator=True,\n",
        "                    scoring='accuracy', cv=ShuffleSplit(n_splits=10, test_size=0.2))"
      ],
      "metadata": {
        "id": "TJluIWrTjwaN"
      },
      "execution_count": null,
      "outputs": []
    },
    {
      "cell_type": "code",
      "source": [
        "z1"
      ],
      "metadata": {
        "colab": {
          "base_uri": "https://localhost:8080/"
        },
        "id": "wPaB7_10lTEx",
        "outputId": "8952eb72-6287-47f7-b65d-6cf7748520d2"
      },
      "execution_count": null,
      "outputs": [
        {
          "output_type": "execute_result",
          "data": {
            "text/plain": [
              "{'fit_time': array([0.03953791, 0.03575659, 0.03452039, 0.04427123, 0.03558969,\n",
              "        0.04256415, 0.04503298, 0.03854823, 0.04210067, 0.04857302]),\n",
              " 'score_time': array([0.00548792, 0.00552988, 0.00537658, 0.00420427, 0.00541353,\n",
              "        0.00564766, 0.00762439, 0.00569463, 0.00559163, 0.00583243]),\n",
              " 'estimator': [DecisionTreeClassifier(max_depth=5),\n",
              "  DecisionTreeClassifier(max_depth=5),\n",
              "  DecisionTreeClassifier(max_depth=5),\n",
              "  DecisionTreeClassifier(max_depth=5),\n",
              "  DecisionTreeClassifier(max_depth=5),\n",
              "  DecisionTreeClassifier(max_depth=5),\n",
              "  DecisionTreeClassifier(max_depth=5),\n",
              "  DecisionTreeClassifier(max_depth=5),\n",
              "  DecisionTreeClassifier(max_depth=5),\n",
              "  DecisionTreeClassifier(max_depth=5)],\n",
              " 'test_score': array([0.74124294, 0.74689266, 0.74689266, 0.74915254, 0.74463277,\n",
              "        0.73559322, 0.71525424, 0.77853107, 0.73785311, 0.74915254]),\n",
              " 'train_score': array([0.76801356, 0.76547047, 0.77168692, 0.77423001, 0.77451257,\n",
              "        0.76038429, 0.76123199, 0.7668833 , 0.77931619, 0.77112179])}"
            ]
          },
          "metadata": {},
          "execution_count": 85
        }
      ]
    },
    {
      "cell_type": "code",
      "source": [
        "def report_cv_score(z):\n",
        "    print (\"test score   %.3f (±%.4f) with %d splits\"%(np.mean(z[\"test_score\"]), np.std(z[\"test_score\"]), len(z[\"test_score\"])))\n",
        "    print (\"train score  %.3f (±%.4f) with %d splits\"%(np.mean(z[\"train_score\"]), np.std(z[\"train_score\"]), len(z[\"train_score\"])))\n",
        "\n",
        "report_cv_score(z1)"
      ],
      "metadata": {
        "colab": {
          "base_uri": "https://localhost:8080/"
        },
        "id": "mEvdSBGjlW5Y",
        "outputId": "21daadf5-8331-4963-afaa-1a1d07c1c271"
      },
      "execution_count": null,
      "outputs": [
        {
          "output_type": "stream",
          "name": "stdout",
          "text": [
            "test score   0.745 (±0.0148) with 10 splits\n",
            "train score  0.769 (±0.0057) with 10 splits\n"
          ]
        }
      ]
    },
    {
      "cell_type": "markdown",
      "source": [
        "De aquí observamos que en general este modelo no supera los resultados del anterior a pesar de usar cross validation para hallar el mejor conjunto.\n",
        "\n",
        "Ahora probemos con un modelo de RandomForest:"
      ],
      "metadata": {
        "id": "xLqlSIEQmjFI"
      }
    },
    {
      "cell_type": "code",
      "source": [
        "from sklearn.ensemble import RandomForestClassifier\n",
        "estimator2 = RandomForestClassifier(max_depth=10)\n",
        "z2 = cross_validate(estimator1, X, y, return_train_score=True, return_estimator=True,\n",
        "                    scoring='accuracy', cv=ShuffleSplit(n_splits=10, test_size=0.2))\n",
        "report_cv_score(z2)"
      ],
      "metadata": {
        "colab": {
          "base_uri": "https://localhost:8080/"
        },
        "id": "57fXVPVBmaad",
        "outputId": "71194996-102c-4458-e48a-93b13ffa9ff1"
      },
      "execution_count": null,
      "outputs": [
        {
          "output_type": "stream",
          "name": "stdout",
          "text": [
            "test score   0.750 (±0.0113) with 10 splits\n",
            "train score  0.766 (±0.0050) with 10 splits\n"
          ]
        }
      ]
    },
    {
      "cell_type": "code",
      "source": [
        "RF = RandomForestClassifier()\n",
        "RF.fit(Xtr, ytr)\n",
        "print(\"Accuracy del modelo: \\n Entrenamiento: %.4f y Testeo: %.4f \"%(RF.score(Xtr, ytr), RF.score(Xts, yts)))"
      ],
      "metadata": {
        "colab": {
          "base_uri": "https://localhost:8080/"
        },
        "id": "pUGty6BlpVWK",
        "outputId": "e27ffff7-ef0f-451c-bf63-c1e735ecb8ff"
      },
      "execution_count": null,
      "outputs": [
        {
          "output_type": "stream",
          "name": "stdout",
          "text": [
            "Accuracy del modelo: \n",
            " Entrenamiento: 1.0000 y Testeo: 0.7525 \n"
          ]
        }
      ]
    },
    {
      "cell_type": "code",
      "source": [
        "predicted=RF.predict(Xts)\n",
        "confusion_matrix = metrics.confusion_matrix(yts, predicted,labels=['Dropout', 'Graduate', 'Enrolled'])\n",
        "fig, ax = plt.subplots(figsize=(6,6))\n",
        "im = sns.heatmap(confusion_matrix,annot=True)\n",
        "\n",
        "p=['Dropout', 'Graduate', 'Enrolled']\n",
        "\n",
        "ax.set_xticks(np.arange(len(p)), labels=k,fontsize=18)\n",
        "ax.set_yticks(np.arange(len(p)), labels=p,fontsize=18)"
      ],
      "metadata": {
        "colab": {
          "base_uri": "https://localhost:8080/",
          "height": 635
        },
        "id": "E4CRPQ5omRvP",
        "outputId": "ad2116bc-c5e0-4731-aa7f-455610edfe52"
      },
      "execution_count": null,
      "outputs": [
        {
          "output_type": "execute_result",
          "data": {
            "text/plain": [
              "[<matplotlib.axis.YTick at 0x7b3eeca44430>,\n",
              " <matplotlib.axis.YTick at 0x7b3eec70e350>,\n",
              " <matplotlib.axis.YTick at 0x7b3eec7a93c0>]"
            ]
          },
          "metadata": {},
          "execution_count": 94
        },
        {
          "output_type": "display_data",
          "data": {
            "text/plain": [
              "<Figure size 600x600 with 2 Axes>"
            ],
            "image/png": "[encoded data removed]"
          },
          "metadata": {}
        }
      ]
    },
    {
      "cell_type": "markdown",
      "source": [
        "Por último proponemos un modelo de red neuronal haciendo uso de tensorflow:\n"
      ],
      "metadata": {
        "id": "qrGkZh0FrqdA"
      }
    },
    {
      "cell_type": "code",
      "source": [
        "import tensorflow as tf\n",
        "from tensorflow.keras import layers\n",
        "\n",
        "model = tf.keras.Sequential([\n",
        "    layers.Dense(64, input_dim=34, activation='relu'),\n",
        "    layers.Dense(128, activation='relu'),\n",
        "    layers.Dense(64, activation='relu'),\n",
        "    layers.Dense(32, activation='relu'),\n",
        "    layers.Dense(3, activation='sigmoid')\n",
        "])\n",
        "model.compile(optimizer='adam',\n",
        "              loss='categorical_crossentropy',\n",
        "              metrics=['accuracy'])\n",
        "model.summary()"
      ],
      "metadata": {
        "colab": {
          "base_uri": "https://localhost:8080/"
        },
        "id": "kGsyBR7_orIU",
        "outputId": "4c84de57-5734-4bc5-ac4e-607512c79776"
      },
      "execution_count": null,
      "outputs": [
        {
          "output_type": "stream",
          "name": "stdout",
          "text": [
            "Model: \"sequential_16\"\n",
            "_________________________________________________________________\n",
            " Layer (type)                Output Shape              Param #   \n",
            "=================================================================\n",
            " dense_78 (Dense)            (None, 64)                2240      \n",
            "                                                                 \n",
            " dense_79 (Dense)            (None, 128)               8320      \n",
            "                                                                 \n",
            " dense_80 (Dense)            (None, 64)                8256      \n",
            "                                                                 \n",
            " dense_81 (Dense)            (None, 32)                2080      \n",
            "                                                                 \n",
            " dense_82 (Dense)            (None, 3)                 99        \n",
            "                                                                 \n",
            "=================================================================\n",
            "Total params: 20995 (82.01 KB)\n",
            "Trainable params: 20995 (82.01 KB)\n",
            "Non-trainable params: 0 (0.00 Byte)\n",
            "_________________________________________________________________\n"
          ]
        }
      ]
    },
    {
      "cell_type": "code",
      "source": [
        "# Dividir entre entrenamiento y testeo\n",
        "X_train, X_test, y_train, y_test = train_test_split(X, y, test_size=0.2, random_state=42)\n",
        "\n",
        "# Dividir el conjunto de testeo en validación y testeo\n",
        "X_val, X_test, y_val, y_test = train_test_split(X_test, y_test, test_size=0.5, random_state=42)"
      ],
      "metadata": {
        "id": "G73luhpj07Sr"
      },
      "execution_count": null,
      "outputs": []
    },
    {
      "cell_type": "code",
      "source": [
        "from sklearn.preprocessing import StandardScaler\n",
        "\n",
        "scaler = StandardScaler()\n",
        "X_train = scaler.fit_transform(X_train)\n",
        "X_val = scaler.fit_transform(X_val)\n",
        "X_test = scaler.fit_transform(X_test)"
      ],
      "metadata": {
        "id": "M6ps5DgSt_VN"
      },
      "execution_count": null,
      "outputs": []
    },
    {
      "cell_type": "markdown",
      "source": [
        "Para poder entrenar, necesitamos convertir las categorias array de números que indican la categoria a la cual pertenece, por lo cual usaremos la siguiente función:"
      ],
      "metadata": {
        "id": "KsMbYz4BvZjl"
      }
    },
    {
      "cell_type": "code",
      "source": [
        "def conv_y(yp):\n",
        "  if(yp=='Dropout'):\n",
        "    return [1,0,0]\n",
        "  elif(yp=='Graduate'):\n",
        "    return [0,1,0]\n",
        "  elif(yp=='Enrolled'):\n",
        "    return [0,0,1]\n",
        "y_train_conv=[conv_y(i) for i in y_train]\n",
        "y_val_conv=[conv_y(i) for i in y_val]\n",
        "y_test_conv=[conv_y(i) for i in y_test]"
      ],
      "metadata": {
        "id": "R5Z5bdyfuVMA"
      },
      "execution_count": null,
      "outputs": []
    },
    {
      "cell_type": "code",
      "source": [
        "history=model.fit(np.array(X_train),np.array(y_train_conv), epochs=50, batch_size=1,validation_data=(np.array(X_val), np.array(y_val_conv)))"
      ],
      "metadata": {
        "colab": {
          "base_uri": "https://localhost:8080/"
        },
        "id": "dTZnH8ydtbXc",
        "outputId": "4ecabc70-67b7-4978-8575-155027ed3ffb"
      },
      "execution_count": null,
      "outputs": [
        {
          "output_type": "stream",
          "name": "stdout",
          "text": [
            "Epoch 1/50\n",
            "3539/3539 [==============================] - 11s 3ms/step - loss: 0.6540 - accuracy: 0.7420 - val_loss: 0.5939 - val_accuracy: 0.7873\n",
            "Epoch 2/50\n",
            "3539/3539 [==============================] - 9s 3ms/step - loss: 0.5793 - accuracy: 0.7641 - val_loss: 0.5882 - val_accuracy: 0.7896\n",
            "Epoch 3/50\n",
            "3539/3539 [==============================] - 10s 3ms/step - loss: 0.5518 - accuracy: 0.7850 - val_loss: 0.5659 - val_accuracy: 0.7828\n",
            "Epoch 4/50\n",
            "3539/3539 [==============================] - 10s 3ms/step - loss: 0.5304 - accuracy: 0.7855 - val_loss: 0.5756 - val_accuracy: 0.7692\n",
            "Epoch 5/50\n",
            "3539/3539 [==============================] - 9s 3ms/step - loss: 0.5100 - accuracy: 0.7940 - val_loss: 0.5970 - val_accuracy: 0.7692\n",
            "Epoch 6/50\n",
            "3539/3539 [==============================] - 9s 2ms/step - loss: 0.4945 - accuracy: 0.8005 - val_loss: 0.6420 - val_accuracy: 0.7783\n",
            "Epoch 7/50\n",
            "3539/3539 [==============================] - 10s 3ms/step - loss: 0.4724 - accuracy: 0.8107 - val_loss: 0.6282 - val_accuracy: 0.7443\n",
            "Epoch 8/50\n",
            "3539/3539 [==============================] - 9s 3ms/step - loss: 0.4474 - accuracy: 0.8177 - val_loss: 0.7202 - val_accuracy: 0.7534\n",
            "Epoch 9/50\n",
            "3539/3539 [==============================] - 9s 3ms/step - loss: 0.4396 - accuracy: 0.8211 - val_loss: 0.6710 - val_accuracy: 0.7670\n",
            "Epoch 10/50\n",
            "3539/3539 [==============================] - 11s 3ms/step - loss: 0.4113 - accuracy: 0.8257 - val_loss: 0.6520 - val_accuracy: 0.7602\n",
            "Epoch 11/50\n",
            "3539/3539 [==============================] - 8s 2ms/step - loss: 0.3972 - accuracy: 0.8418 - val_loss: 0.7421 - val_accuracy: 0.7376\n",
            "Epoch 12/50\n",
            "3539/3539 [==============================] - 11s 3ms/step - loss: 0.3731 - accuracy: 0.8488 - val_loss: 0.8007 - val_accuracy: 0.7692\n",
            "Epoch 13/50\n",
            "3539/3539 [==============================] - 10s 3ms/step - loss: 0.3542 - accuracy: 0.8553 - val_loss: 0.8237 - val_accuracy: 0.7851\n",
            "Epoch 14/50\n",
            "3539/3539 [==============================] - 8s 2ms/step - loss: 0.3357 - accuracy: 0.8675 - val_loss: 0.8307 - val_accuracy: 0.7760\n",
            "Epoch 15/50\n",
            "3539/3539 [==============================] - 10s 3ms/step - loss: 0.3084 - accuracy: 0.8717 - val_loss: 0.9081 - val_accuracy: 0.7760\n",
            "Epoch 16/50\n",
            "3539/3539 [==============================] - 10s 3ms/step - loss: 0.3072 - accuracy: 0.8768 - val_loss: 0.9376 - val_accuracy: 0.7760\n",
            "Epoch 17/50\n",
            "3539/3539 [==============================] - 10s 3ms/step - loss: 0.2796 - accuracy: 0.8955 - val_loss: 1.1340 - val_accuracy: 0.7692\n",
            "Epoch 18/50\n",
            "3539/3539 [==============================] - 10s 3ms/step - loss: 0.2755 - accuracy: 0.8949 - val_loss: 0.9938 - val_accuracy: 0.7398\n",
            "Epoch 19/50\n",
            "3539/3539 [==============================] - 10s 3ms/step - loss: 0.2532 - accuracy: 0.9048 - val_loss: 1.0690 - val_accuracy: 0.7353\n",
            "Epoch 20/50\n",
            "3539/3539 [==============================] - 8s 2ms/step - loss: 0.2343 - accuracy: 0.9053 - val_loss: 1.1497 - val_accuracy: 0.7398\n",
            "Epoch 21/50\n",
            "3539/3539 [==============================] - 10s 3ms/step - loss: 0.2382 - accuracy: 0.9065 - val_loss: 1.3297 - val_accuracy: 0.7692\n",
            "Epoch 22/50\n",
            "3539/3539 [==============================] - 10s 3ms/step - loss: 0.2177 - accuracy: 0.9257 - val_loss: 1.2590 - val_accuracy: 0.7330\n",
            "Epoch 23/50\n",
            "3539/3539 [==============================] - 9s 2ms/step - loss: 0.1985 - accuracy: 0.9220 - val_loss: 1.6158 - val_accuracy: 0.7240\n",
            "Epoch 24/50\n",
            "3539/3539 [==============================] - 10s 3ms/step - loss: 0.2032 - accuracy: 0.9268 - val_loss: 1.5500 - val_accuracy: 0.7353\n",
            "Epoch 25/50\n",
            "3539/3539 [==============================] - 9s 3ms/step - loss: 0.2038 - accuracy: 0.9308 - val_loss: 1.3822 - val_accuracy: 0.7308\n",
            "Epoch 26/50\n",
            "3539/3539 [==============================] - 9s 2ms/step - loss: 0.1869 - accuracy: 0.9333 - val_loss: 1.6071 - val_accuracy: 0.7217\n",
            "Epoch 27/50\n",
            "3539/3539 [==============================] - 10s 3ms/step - loss: 0.1837 - accuracy: 0.9305 - val_loss: 1.7243 - val_accuracy: 0.7195\n",
            "Epoch 28/50\n",
            "3539/3539 [==============================] - 9s 3ms/step - loss: 0.1557 - accuracy: 0.9401 - val_loss: 1.9111 - val_accuracy: 0.6448\n",
            "Epoch 29/50\n",
            "3539/3539 [==============================] - 9s 3ms/step - loss: 0.1695 - accuracy: 0.9381 - val_loss: 1.7526 - val_accuracy: 0.7195\n",
            "Epoch 30/50\n",
            "3539/3539 [==============================] - 11s 3ms/step - loss: 0.1721 - accuracy: 0.9373 - val_loss: 1.5845 - val_accuracy: 0.7421\n",
            "Epoch 31/50\n",
            "3539/3539 [==============================] - 9s 3ms/step - loss: 0.1636 - accuracy: 0.9421 - val_loss: 1.7787 - val_accuracy: 0.7557\n",
            "Epoch 32/50\n",
            "3539/3539 [==============================] - 9s 3ms/step - loss: 0.1503 - accuracy: 0.9443 - val_loss: 2.2569 - val_accuracy: 0.7511\n",
            "Epoch 33/50\n",
            "3539/3539 [==============================] - 10s 3ms/step - loss: 0.1439 - accuracy: 0.9483 - val_loss: 1.8656 - val_accuracy: 0.7353\n",
            "Epoch 34/50\n",
            "3539/3539 [==============================] - 8s 2ms/step - loss: 0.1552 - accuracy: 0.9452 - val_loss: 1.9473 - val_accuracy: 0.7262\n",
            "Epoch 35/50\n",
            "3539/3539 [==============================] - 10s 3ms/step - loss: 0.1342 - accuracy: 0.9506 - val_loss: 2.0745 - val_accuracy: 0.7262\n",
            "Epoch 36/50\n",
            "3539/3539 [==============================] - 10s 3ms/step - loss: 0.1380 - accuracy: 0.9539 - val_loss: 1.9422 - val_accuracy: 0.7285\n",
            "Epoch 37/50\n",
            "3539/3539 [==============================] - 8s 2ms/step - loss: 0.1280 - accuracy: 0.9489 - val_loss: 2.9248 - val_accuracy: 0.7715\n",
            "Epoch 38/50\n",
            "3539/3539 [==============================] - 10s 3ms/step - loss: 0.1421 - accuracy: 0.9545 - val_loss: 1.8322 - val_accuracy: 0.7353\n",
            "Epoch 39/50\n",
            "3539/3539 [==============================] - 9s 3ms/step - loss: 0.1446 - accuracy: 0.9551 - val_loss: 2.0308 - val_accuracy: 0.7104\n",
            "Epoch 40/50\n",
            "3539/3539 [==============================] - 9s 2ms/step - loss: 0.1375 - accuracy: 0.9590 - val_loss: 2.0451 - val_accuracy: 0.7149\n",
            "Epoch 41/50\n",
            "3539/3539 [==============================] - 10s 3ms/step - loss: 0.1063 - accuracy: 0.9619 - val_loss: 2.5780 - val_accuracy: 0.7262\n",
            "Epoch 42/50\n",
            "3539/3539 [==============================] - 9s 3ms/step - loss: 0.1216 - accuracy: 0.9596 - val_loss: 2.5690 - val_accuracy: 0.7217\n",
            "Epoch 43/50\n",
            "3539/3539 [==============================] - 9s 3ms/step - loss: 0.1215 - accuracy: 0.9602 - val_loss: 2.1054 - val_accuracy: 0.7195\n",
            "Epoch 44/50\n",
            "3539/3539 [==============================] - 12s 3ms/step - loss: 0.1263 - accuracy: 0.9596 - val_loss: 2.6047 - val_accuracy: 0.7149\n",
            "Epoch 45/50\n",
            "3539/3539 [==============================] - 8s 2ms/step - loss: 0.1199 - accuracy: 0.9579 - val_loss: 2.0646 - val_accuracy: 0.7217\n",
            "Epoch 46/50\n",
            "3539/3539 [==============================] - 10s 3ms/step - loss: 0.1003 - accuracy: 0.9633 - val_loss: 3.1834 - val_accuracy: 0.7127\n",
            "Epoch 47/50\n",
            "3539/3539 [==============================] - 9s 3ms/step - loss: 0.1165 - accuracy: 0.9621 - val_loss: 2.2071 - val_accuracy: 0.7602\n",
            "Epoch 48/50\n",
            "3539/3539 [==============================] - 9s 2ms/step - loss: 0.1134 - accuracy: 0.9621 - val_loss: 2.4343 - val_accuracy: 0.7376\n",
            "Epoch 49/50\n",
            "3539/3539 [==============================] - 10s 3ms/step - loss: 0.1144 - accuracy: 0.9630 - val_loss: 2.5657 - val_accuracy: 0.7421\n",
            "Epoch 50/50\n",
            "3539/3539 [==============================] - 8s 2ms/step - loss: 0.0934 - accuracy: 0.9644 - val_loss: 2.5189 - val_accuracy: 0.7217\n"
          ]
        }
      ]
    },
    {
      "cell_type": "code",
      "source": [
        "plt.plot(np.array(model.history.history['accuracy']), label='Train')\n",
        "plt.plot(np.array(model.history.history['val_accuracy']),label='Val')\n",
        "plt.legend()\n",
        "plt.xlabel(\"Accuracy\")\n",
        "plt.ylabel(\"Epocas\")\n",
        "plt.grid()\n",
        "plt.show()"
      ],
      "metadata": {
        "colab": {
          "base_uri": "https://localhost:8080/",
          "height": 449
        },
        "id": "mlhFbre525si",
        "outputId": "14ec7924-12d6-486e-a831-845e24834d97"
      },
      "execution_count": null,
      "outputs": [
        {
          "output_type": "display_data",
          "data": {
            "text/plain": [
              "<Figure size 640x480 with 1 Axes>"
            ],
            "image/png": "[encoded data removed]"
          },
          "metadata": {}
        }
      ]
    },
    {
      "cell_type": "code",
      "source": [
        "target=['Dropout', 'Graduate', 'Enrolled']\n",
        "def conv_Categorical(yp):\n",
        "  ind=np.where(np.max(yp)==yp)[0][0]\n",
        "  return target[ind]\n",
        "\n",
        "pred=model.predict(Xts)\n",
        "conv_Categorical(pred[0])\n",
        "y_pred_conv=[conv_Categorical(i) for i in pred]"
      ],
      "metadata": {
        "colab": {
          "base_uri": "https://localhost:8080/"
        },
        "id": "jbJbZx6nzK2o",
        "outputId": "7111d7c1-259d-4555-f166-3b6d995f14e8"
      },
      "execution_count": null,
      "outputs": [
        {
          "output_type": "stream",
          "name": "stdout",
          "text": [
            "28/28 [==============================] - 0s 2ms/step\n"
          ]
        }
      ]
    },
    {
      "cell_type": "code",
      "source": [
        "from sklearn.metrics import accuracy_score\n",
        "accuracy = accuracy_score(yts, y_pred_conv)\n",
        "print(\"Accuracy del Testeo: \",accuracy)"
      ],
      "metadata": {
        "colab": {
          "base_uri": "https://localhost:8080/"
        },
        "id": "T4jfNZD-ArjP",
        "outputId": "8a392aaf-dc3e-4c74-bfc5-646a228bdc87"
      },
      "execution_count": null,
      "outputs": [
        {
          "output_type": "stream",
          "name": "stdout",
          "text": [
            "Accuracy del Testeo:  0.919774011299435\n"
          ]
        }
      ]
    },
    {
      "cell_type": "code",
      "source": [
        "confusion_matrix = metrics.confusion_matrix(yts, y_pred_conv,labels=['Dropout', 'Graduate', 'Enrolled'])\n",
        "fig, ax = plt.subplots(figsize=(6,6))\n",
        "im = sns.heatmap(confusion_matrix,annot=True)\n",
        "\n",
        "p=['Dropout', 'Graduate', 'Enrolled']\n",
        "\n",
        "ax.set_xticks(np.arange(len(p)), labels=k,fontsize=18)\n",
        "ax.set_yticks(np.arange(len(p)), labels=p,fontsize=18)"
      ],
      "metadata": {
        "colab": {
          "base_uri": "https://localhost:8080/",
          "height": 635
        },
        "id": "lOnwTb1Qt0K2",
        "outputId": "5a66d158-aeee-4254-a509-8e1f5c810a84"
      },
      "execution_count": null,
      "outputs": [
        {
          "output_type": "execute_result",
          "data": {
            "text/plain": [
              "[<matplotlib.axis.YTick at 0x7b3e94129c60>,\n",
              " <matplotlib.axis.YTick at 0x7b3e78d2d840>,\n",
              " <matplotlib.axis.YTick at 0x7b3e8c49e4d0>]"
            ]
          },
          "metadata": {},
          "execution_count": 174
        },
        {
          "output_type": "display_data",
          "data": {
            "text/plain": [
              "<Figure size 600x600 with 2 Axes>"
            ],
            "image/png": "[encoded data removed]"
          },
          "metadata": {}
        }
      ]
    }
  ]
}