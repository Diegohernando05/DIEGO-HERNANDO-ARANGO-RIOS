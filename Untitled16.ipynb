{
  "nbformat": 4,
  "nbformat_minor": 0,
  "metadata": {
    "colab": {
      "provenance": [],
      "authorship_tag": "ABX9TyNRO75VBptw9Dj2kXpjExhl",
      "include_colab_link": true
    },
    "kernelspec": {
      "name": "python3",
      "display_name": "Python 3"
    },
    "language_info": {
      "name": "python"
    }
  },
  "cells": [
    {
      "cell_type": "markdown",
      "metadata": {
        "id": "view-in-github",
        "colab_type": "text"
      },
      "source": [
        "<a href=\"https://colab.research.google.com/github/Diegohernando05/DIEGO-HERNANDO-ARANGO-RIOS/blob/main/Untitled16.ipynb\" target=\"_parent\"><img src=\"https://colab.research.google.com/assets/colab-badge.svg\" alt=\"Open In Colab\"/></a>"
      ]
    },
    {
      "cell_type": "code",
      "source": [
        "#empezar a trabajar en la limpieza de los datos, identificando y completando los valores faltantes\n",
        "import pandas as pd\n",
        "import numpy as np\n",
        "\n",
        "# cargar el archivo CSV\n",
        "df = pd.read_csv('/content/newdataset.csv')\n",
        "# mostrar las primeras filas del dataset\n",
        "print(df.head())\n",
        "# obtener información general del dataset\n",
        "print(df.info())\n",
        "# obtener estadísticas descriptivas del dataset\n",
        "print(df.describe())\n",
        "# identificar valores faltantes\n",
        "print(df.isnull().sum())\n",
        "# obtener porcentaje de valores faltantes por columna\n",
        "print(df.isnull().mean() * 100)\n",
        "# eliminar columnas con más del 50% de valores faltantes\n",
        "umbral = 0.5\n",
        "df.dropna(thresh=umbral*len(df), axis=1, inplace=True)\n",
        "# completar los valores faltantes en las columnas restantes con la media\n",
        "df.fillna(df.mean(), inplace=True)"
      ],
      "metadata": {
        "id": "sYt6JTUGHdQN"
      },
      "execution_count": null,
      "outputs": []
    },
    {
      "cell_type": "code",
      "source": [
        "#Construcción incial del modelo\n",
        "import numpy as np\n",
        "import pandas as pd\n",
        "import tensorflow as tf\n",
        "from tensorflow.keras.models import Sequential\n",
        "from tensorflow.keras.layers import Dense, Dropout\n",
        "from tensorflow.keras.callbacks import EarlyStopping\n",
        "from sklearn.model_selection import train_test_split\n",
        "# Separar las variables dependientes e independientes\n",
        "data = pd.read_csv(\"/content/newdataset.csv\")\n",
        "X = data.drop('Application order', axis=1)\n",
        "y = data['Inflation rate']\n",
        "from sklearn.model_selection import train_test_split\n",
        "\n",
        "X_train, X_test, y_train, y_test = train_test_split(X, y, test_size=0.2, random_state=42)\n",
        "from sklearn.preprocessing import StandardScaler\n",
        "\n",
        "# Cargar datos con pandas\n",
        "data = pd.read_csv('/content/newdataset.csv')\n",
        "\n",
        "# Eliminar columnas no numéricas si es necesario\n",
        "data = data.drop('Gender', axis=1)\n",
        "\n",
        "# Cambiar el nombre de la columna\n",
        "data = data.rename(columns={'Previous qualification': 'Age at enrollment'})\n",
        "\n",
        "# Separar variables dependientes e independientes\n",
        "X = data.drop('Age at enrollment', axis=1)\n",
        "y = data['Age at enrollment']\n",
        "\n",
        "# Escalar los datos\n",
        "scaler = StandardScaler()\n",
        "X_train = scaler.fit_transform(X_train)\n",
        "X_test = scaler.transform(X_test)"
      ],
      "metadata": {
        "id": "Q7logifaHrxR"
      },
      "execution_count": null,
      "outputs": []
    }
  ]
}